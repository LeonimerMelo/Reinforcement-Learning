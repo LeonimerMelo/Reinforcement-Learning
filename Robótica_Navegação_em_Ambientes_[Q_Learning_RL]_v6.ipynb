{
  "nbformat": 4,
  "nbformat_minor": 0,
  "metadata": {
    "colab": {
      "provenance": [],
      "authorship_tag": "ABX9TyNBFvDPYcSd6g8yNEPROOi+",
      "include_colab_link": true
    },
    "kernelspec": {
      "name": "python3",
      "display_name": "Python 3"
    },
    "language_info": {
      "name": "python"
    }
  },
  "cells": [
    {
      "cell_type": "markdown",
      "metadata": {
        "id": "view-in-github",
        "colab_type": "text"
      },
      "source": [
        "<a href=\"https://colab.research.google.com/github/LeonimerMelo/Reinforcement-Learning/blob/Q-Learning/Rob%C3%B3tica_Navega%C3%A7%C3%A3o_em_Ambientes_%5BQ_Learning_RL%5D_v6.ipynb\" target=\"_parent\"><img src=\"https://colab.research.google.com/assets/colab-badge.svg\" alt=\"Open In Colab\"/></a>"
      ]
    },
    {
      "cell_type": "markdown",
      "source": [
        "#Robótica: Navegação em Ambientes\n",
        "\n",
        "Este notebook apresenta os passos para implementar uma solução de navegação em ambientes usando Processos de Decisão de Markov (MDPs) e Aprendizado por Reforço (RL).\n",
        "\n",
        "---\n",
        "\n",
        "### **Etapa 1: Definir o Ambiente**\n",
        "O ambiente é um grid 2D onde o robô se move para alcançar um objetivo, evitando obstáculos.\n",
        "\n",
        "1. **Configuração do Grid**:\n",
        "   - Cada célula do grid representa um estado $ S $.\n",
        "   - As células podem ser:\n",
        "     - **Caminháveis**: Estados válidos para o robô.\n",
        "     - **Obstáculos**: Estados bloqueados.\n",
        "     - **Objetivo**: Estado final desejado.\n",
        "\n",
        "2. **Exemplo de Ambiente**:\n",
        "   ```\n",
        "   S = Início\n",
        "   X = Obstáculo\n",
        "   G = Objetivo\n",
        "\n",
        "   [ S, 0, 0, G ]\n",
        "   [ 0, X, 0, 0 ]\n",
        "   [ 0, 0, X, 0 ]\n",
        "   ```\n",
        "\n",
        "---\n",
        "\n",
        "### **Etapa 2: Modelar o MDP**\n",
        "Defina os elementos do MDP para o problema.\n",
        "\n",
        "1. **Estados ($S$)**:\n",
        "   - Cada posição do grid $ (x, y) $ é um estado.\n",
        "\n",
        "2. **Ações ($A$)**:\n",
        "   - $ A = \\{ \\text{cima}, \\text{baixo}, \\text{esquerda}, \\text{direita} \\} $.\n",
        "\n",
        "3. **Probabilidade de Transição ($P(s'|s, a)$)**:\n",
        "   - Probabilidade de $80\\%$ de mover na direção escolhida.\n",
        "   - Probabilidade de $20\\%$ de mover para uma direção vizinha aleatória.\n",
        "\n",
        "4. **Recompensas ($R(s, a)$)**:\n",
        "   - $+10$ ao alcançar o objetivo.\n",
        "   - $-1$ por movimento.\n",
        "   - $-100$ ao colidir com um obstáculo.\n",
        "\n",
        "5. **Fator de Desconto ($\\gamma$)**:\n",
        "   - $ \\gamma = 0.9 $: Prioriza recompensas futuras, mas dá mais peso às imediatas.\n",
        "\n",
        "---\n",
        "\n",
        "### **Etapa 3: Escolher um Algoritmo de RL**\n",
        "Escolha um algoritmo para resolver o MDP:\n",
        "- **Q-Learning** (sem modelo): Aprende a função $ Q(s, a) $, que estima a qualidade de cada ação em um estado.\n",
        "- **SARSA**: Similar ao Q-Learning, mas considera a política atual.\n",
        "- **Deep Q-Learning**: Usa redes neurais para lidar com espaços de estado maiores.\n",
        "\n",
        "---\n",
        "\n"
      ],
      "metadata": {
        "id": "14ETL0PrKtsh"
      }
    },
    {
      "cell_type": "markdown",
      "source": [
        "### **Etapa 4: Implementação**\n",
        "Aqui está um exemplo de implementação básica usando Q-Learning."
      ],
      "metadata": {
        "id": "Kk8SG4nZLrN3"
      }
    },
    {
      "cell_type": "code",
      "execution_count": 1,
      "metadata": {
        "id": "uS82YroTyywT"
      },
      "outputs": [],
      "source": [
        "# Bibliotecas Necessárias\n",
        "import numpy as np\n",
        "import random\n",
        "import matplotlib.pyplot as plt\n",
        "import pandas as pd"
      ]
    },
    {
      "cell_type": "markdown",
      "source": [
        "#### Configuração do Ambiente:"
      ],
      "metadata": {
        "id": "IQuN_ezXMDR_"
      }
    },
    {
      "cell_type": "code",
      "source": [
        "# i_state = (4, 0)  # Estado inicial\n",
        "i_state = (2, 0)  # Estado inicial\n",
        "\n",
        "# Representação do grid\n",
        "# -1 = Obstáculo, 0 = Caminhável, 1 = Objetivo\n",
        "# grid = np.array([\n",
        "#     [0, 0, 0, 0, 0, 1],\n",
        "#     [0, -1, 0, 0, 0, 0],\n",
        "#     [0, 0, -1, 0, -1, 0],\n",
        "#     [-1, 0, 0, 0, 0, 0],\n",
        "#     [0, 0, -1, 0, 0, 0]\n",
        "# ])\n",
        "grid = np.array([\n",
        "    [0, 0, 0, 1],\n",
        "    [0, -1, 0, 0],\n",
        "    [0, 0, -1, 0]\n",
        "])\n",
        "rows, cols = grid.shape\n",
        "a = np.where(grid == 1)\n",
        "g_state = (a[0][0], a[1][0]) # goal state (estado final)\n",
        "\n",
        "# Recompensas\n",
        "rewards = np.full((rows, cols), -1)\n",
        "rewards[g_state] = 10  # Objetivo\n",
        "lin_i, col_i = np.where(grid == -1)\n",
        "for i in range(len(lin_i)):\n",
        "  rewards[lin_i[i], col_i[i]]= -100 # obstáculos"
      ],
      "metadata": {
        "id": "aD-QgCtiuAmG"
      },
      "execution_count": 2,
      "outputs": []
    },
    {
      "cell_type": "code",
      "source": [
        "grid"
      ],
      "metadata": {
        "colab": {
          "base_uri": "https://localhost:8080/"
        },
        "id": "DBApAZMi5rE-",
        "outputId": "af725ffb-e05d-48fe-b525-0df26c6d57e0"
      },
      "execution_count": 3,
      "outputs": [
        {
          "output_type": "execute_result",
          "data": {
            "text/plain": [
              "array([[ 0,  0,  0,  1],\n",
              "       [ 0, -1,  0,  0],\n",
              "       [ 0,  0, -1,  0]])"
            ]
          },
          "metadata": {},
          "execution_count": 3
        }
      ]
    },
    {
      "cell_type": "code",
      "source": [
        "rows, cols"
      ],
      "metadata": {
        "colab": {
          "base_uri": "https://localhost:8080/"
        },
        "id": "CEj_WTFpoZkx",
        "outputId": "c34ae921-2824-41cb-d646-5acc5f8b7c4a"
      },
      "execution_count": 4,
      "outputs": [
        {
          "output_type": "execute_result",
          "data": {
            "text/plain": [
              "(3, 4)"
            ]
          },
          "metadata": {},
          "execution_count": 4
        }
      ]
    },
    {
      "cell_type": "code",
      "source": [
        "rewards"
      ],
      "metadata": {
        "colab": {
          "base_uri": "https://localhost:8080/"
        },
        "id": "45bduxuB4sLQ",
        "outputId": "0834fe13-47ff-4be5-a6bb-35b8e1c9e8be"
      },
      "execution_count": 5,
      "outputs": [
        {
          "output_type": "execute_result",
          "data": {
            "text/plain": [
              "array([[  -1,   -1,   -1,   10],\n",
              "       [  -1, -100,   -1,   -1],\n",
              "       [  -1,   -1, -100,   -1]])"
            ]
          },
          "metadata": {},
          "execution_count": 5
        }
      ]
    },
    {
      "cell_type": "code",
      "source": [
        "g_state"
      ],
      "metadata": {
        "colab": {
          "base_uri": "https://localhost:8080/"
        },
        "id": "wOUnbtE97kKG",
        "outputId": "b59a8280-cbe3-49e6-bc61-9ebd846afd20"
      },
      "execution_count": null,
      "outputs": [
        {
          "output_type": "execute_result",
          "data": {
            "text/plain": [
              "(0, 3)"
            ]
          },
          "metadata": {},
          "execution_count": 6
        }
      ]
    },
    {
      "cell_type": "markdown",
      "source": [
        "###Funções Auxiliares:"
      ],
      "metadata": {
        "id": "f96mIexdMMn3"
      }
    },
    {
      "cell_type": "code",
      "source": [
        "# Função para determinar se o estado é válido\n",
        "def is_valid_state(state):\n",
        "    x, y = state\n",
        "    return 0 <= x < rows and 0 <= y < cols and grid[x, y] != -1\n",
        "\n",
        "# Função para obter o próximo estado\n",
        "def get_next_state(state, action):\n",
        "    x, y = state\n",
        "    if action == \"up\":\n",
        "        x -= 1\n",
        "    elif action == \"down\":\n",
        "        x += 1\n",
        "    elif action == \"left\":\n",
        "        y -= 1\n",
        "    elif action == \"right\":\n",
        "        y += 1\n",
        "    return (x, y) if is_valid_state((x, y)) else state\n",
        "\n",
        "# Exibir a Q-Table como DataFrame\n",
        "# Criar um DataFrame para cada estado e ação\n",
        "def display_q_table(q_table):\n",
        "    states = [(row, col) for row in range(rows) for col in range(cols)]\n",
        "    data = []\n",
        "    for state in states:\n",
        "        if grid[state[0], state[1]] == -1:  # Marcar obstáculos\n",
        "            data.append([\"OBST\", \"OBST\", \"OBST\", \"OBST\"])\n",
        "        else:\n",
        "            data.append(q_table[state].round(2))  # Valores Q para cada ação\n",
        "    df = pd.DataFrame(data, index=states, columns=['Up', 'Down', 'Left', 'Right'])\n",
        "    return df"
      ],
      "metadata": {
        "id": "-zD5YX8JzYjY"
      },
      "execution_count": 6,
      "outputs": []
    },
    {
      "cell_type": "code",
      "source": [
        "is_valid_state((3,3))"
      ],
      "metadata": {
        "colab": {
          "base_uri": "https://localhost:8080/"
        },
        "id": "4YkoVdz1zhlH",
        "outputId": "25b6c439-cc81-4226-a460-f35c8947e487"
      },
      "execution_count": 7,
      "outputs": [
        {
          "output_type": "execute_result",
          "data": {
            "text/plain": [
              "False"
            ]
          },
          "metadata": {},
          "execution_count": 7
        }
      ]
    },
    {
      "cell_type": "markdown",
      "source": [
        "### **Atualização da Q-Table**\n",
        "Os valores Q na tabela são atualizados iterativamente durante o treinamento. A fórmula de atualização é:\n",
        "\n",
        "$$\n",
        "Q(s, a) \\leftarrow Q(s, a) + \\alpha \\left[ r + \\gamma \\max_{a'} Q(s', a') - Q(s, a) \\right]\n",
        "$$\n",
        "\n",
        "Explicando a equação:\n",
        "\n",
        "Novo Valor Q = Valor Q antigo + taxa de aprendizado * (recompensa + fator de desconto * valor Q máximo do próximo estado - Valor Q antigo)\n",
        "\n",
        "\n",
        "- $s$: Estado atual.\n",
        "- $a$: Ação tomada.\n",
        "- $r$: Recompensa recebida após executar a ação $a$ em $s$.\n",
        "- $s'$: Próximo estado alcançado.\n",
        "- $\\alpha$: Taxa de aprendizado (determina o peso dado à nova informação).\n",
        "- $\\gamma$: Fator de desconto (determina a importância das recompensas futuras).\n",
        "- $\\max_{a'} Q(s', a')$: Melhor valor Q estimado no próximo estado $s'$."
      ],
      "metadata": {
        "id": "DjO7_PRowlYk"
      }
    },
    {
      "cell_type": "markdown",
      "source": [
        "###Implementação do Q-Learning:"
      ],
      "metadata": {
        "id": "T7RjB1uqMS74"
      }
    },
    {
      "cell_type": "code",
      "source": [
        "# Parâmetros do Q-Learning\n",
        "actions = [\"up\", \"down\", \"left\", \"right\"]\n",
        "q_table = np.zeros((rows, cols, len(actions)))\n",
        "alpha = 0.1  # Taxa de aprendizado\n",
        "gamma = 0.9  # Fator de desconto\n",
        "epsilon = 0.1  # Taxa de exploração\n",
        "episodes = 1000  # número de epsódios\n",
        "max_step_time = 100 # número máximo de iterações (step time) por episódios\n",
        "e_print = 1000  # episódio para imprimir as ações tomadas\n",
        "\n",
        "# Monitorar métricas durante o treinamento\n",
        "#valores_Q = []\n",
        "rewards_per_episode = []\n",
        "steps_per_episode = []\n",
        "q_table_history = []\n",
        "\n",
        "# Treinamento\n",
        "for episode in range(episodes):\n",
        "    state = i_state  # Estado inicial\n",
        "    steps=0\n",
        "    total_reward=0\n",
        "    while state != g_state:  # Até alcançar o objetivo\n",
        "        if random.uniform(0, 1) < epsilon:\n",
        "            action = random.choice(actions)  # Exploration\n",
        "        else:\n",
        "            action = actions[np.argmax(q_table[state[0], state[1]])]  # Exploitation\n",
        "\n",
        "        next_state = get_next_state(state, action)\n",
        "        reward = rewards[next_state[0], next_state[1]]\n",
        "        action_index = actions.index(action)\n",
        "\n",
        "        # Atualizar a Q-Table\n",
        "        best_next_action = np.max(q_table[next_state[0], next_state[1]])\n",
        "        q_table[state[0], state[1], action_index] += alpha * (\n",
        "            reward + gamma * best_next_action - q_table[state[0], state[1], action_index]\n",
        "        )\n",
        "        #print(i, action, state, reward, end=\" \")\n",
        "        state = next_state\n",
        "        total_reward += reward\n",
        "\n",
        "        #print(steps, action, state, reward, end=\" \")\n",
        "        if (e_print-1 == episode):\n",
        "          print('step time:', steps, '\\taction:', action, '\\treward:', reward)\n",
        "\n",
        "        steps+=1\n",
        "        if steps > max_step_time:\n",
        "          print('Máximo de iterações atingida! steps:', steps, 'episódio:', episode)\n",
        "          break\n",
        "\n",
        "    #valores_Q.append(q_table[0, 0])\n",
        "    rewards_per_episode.append(total_reward)\n",
        "    steps_per_episode.append(steps)\n",
        "    q_table_history.append(np.mean(q_table))  # Armazenar média geral da Q-Table\n",
        "    #print(episode, state, reward, i, end=\" \")"
      ],
      "metadata": {
        "id": "vXByf_0xosGo",
        "colab": {
          "base_uri": "https://localhost:8080/"
        },
        "outputId": "36ba0ce6-c093-4be4-e4db-7145767fe5ff"
      },
      "execution_count": 11,
      "outputs": [
        {
          "output_type": "stream",
          "name": "stdout",
          "text": [
            "step time: 0 \taction: up \treward: -1\n",
            "step time: 1 \taction: up \treward: -1\n",
            "step time: 2 \taction: right \treward: -1\n",
            "step time: 3 \taction: right \treward: -1\n",
            "step time: 4 \taction: right \treward: 10\n"
          ]
        }
      ]
    },
    {
      "cell_type": "markdown",
      "source": [
        "##Explicação passo-a-passo do Q-Learning\n",
        "---"
      ],
      "metadata": {
        "id": "ijNU2Qzo2YDp"
      }
    },
    {
      "cell_type": "markdown",
      "source": [
        "Parâmetros e condições iniciais"
      ],
      "metadata": {
        "id": "1JtuX1YL2hnx"
      }
    },
    {
      "cell_type": "code",
      "source": [
        "# Parâmetros do Q-Learning\n",
        "actions = [\"up\", \"down\", \"left\", \"right\"]\n",
        "q_table = np.zeros((rows, cols, len(actions)))\n",
        "alpha = 0.1  # Taxa de aprendizado\n",
        "gamma = 0.9  # Fator de desconto\n",
        "epsilon = 0.1  # Taxa de exploração"
      ],
      "metadata": {
        "id": "bcty38ayIuep"
      },
      "execution_count": null,
      "outputs": []
    },
    {
      "cell_type": "code",
      "source": [
        "state = i_state  # Estado inicial\n",
        "steps = 0"
      ],
      "metadata": {
        "id": "Ln20pzH3IywI"
      },
      "execution_count": null,
      "outputs": []
    },
    {
      "cell_type": "markdown",
      "source": [
        "###Aqui começa o Looping dos time steps"
      ],
      "metadata": {
        "id": "1RjwgKdu2yP5"
      }
    },
    {
      "cell_type": "code",
      "source": [
        "# Verifico a Q-table\n",
        "q_table"
      ],
      "metadata": {
        "colab": {
          "base_uri": "https://localhost:8080/"
        },
        "id": "OO88xvbo2Pmq",
        "outputId": "c0519a64-d4f7-4d0a-a9e5-13376fb5ec53"
      },
      "execution_count": null,
      "outputs": [
        {
          "output_type": "execute_result",
          "data": {
            "text/plain": [
              "array([[[ 0.14723957, -0.65717909,  0.94813972,  6.18631887],\n",
              "        [ 1.49065112, -0.199     ,  0.67012854,  7.99717604],\n",
              "        [ 1.48189588, -0.19      ,  1.38753576,  9.99970487],\n",
              "        [ 0.        ,  0.        ,  0.        ,  0.        ]],\n",
              "\n",
              "       [[ 4.52912978, -0.67054826, -0.45235423, -0.87249359],\n",
              "        [ 0.        ,  0.        ,  0.        ,  0.        ],\n",
              "        [-0.1       , -0.1       , -0.1       , -0.1       ],\n",
              "        [ 1.        ,  0.        ,  0.        ,  0.        ]],\n",
              "\n",
              "       [[ 2.98866651, -1.63532611, -1.66650156, -2.02764151],\n",
              "        [-1.9836941 , -1.9836941 , -1.36861136, -1.9836941 ],\n",
              "        [ 0.        ,  0.        ,  0.        ,  0.        ],\n",
              "        [ 0.        ,  0.        ,  0.        ,  0.        ]]])"
            ]
          },
          "metadata": {},
          "execution_count": 314
        }
      ]
    },
    {
      "cell_type": "code",
      "source": [
        "# Verifico o estado atual\n",
        "state"
      ],
      "metadata": {
        "colab": {
          "base_uri": "https://localhost:8080/"
        },
        "id": "u99Kl47CJzRB",
        "outputId": "7ade5977-34c8-41ff-fb10-573d0ad7f90c"
      },
      "execution_count": null,
      "outputs": [
        {
          "output_type": "execute_result",
          "data": {
            "text/plain": [
              "(2, 0)"
            ]
          },
          "metadata": {},
          "execution_count": 315
        }
      ]
    },
    {
      "cell_type": "code",
      "source": [
        "# verifico o posicionamento (estado) no grid\n",
        "# -1 = Obstáculo, 0 = Caminhável, 1 = Objetivo\n",
        "grid"
      ],
      "metadata": {
        "colab": {
          "base_uri": "https://localhost:8080/"
        },
        "id": "PvXRSs9j1BBK",
        "outputId": "efd977f7-f2a6-48a1-af3b-802bd1a2532a"
      },
      "execution_count": null,
      "outputs": [
        {
          "output_type": "execute_result",
          "data": {
            "text/plain": [
              "array([[ 0,  0,  0,  1],\n",
              "       [ 0, -1,  0,  0],\n",
              "       [ 0,  0, -1,  0]])"
            ]
          },
          "metadata": {},
          "execution_count": 316
        }
      ]
    },
    {
      "cell_type": "code",
      "source": [
        "# Linha da Q-table correspondente ao estado atual.\n",
        "# Os valores correspondem aos \"pesos\" das respectivas ações: [\"up\", \"down\", \"left\", \"right\"]\n",
        "q_table[state[0], state[1]]"
      ],
      "metadata": {
        "colab": {
          "base_uri": "https://localhost:8080/"
        },
        "id": "JQ5AXoA6KRgK",
        "outputId": "1a85392e-f777-4059-e8d7-642ad17cb4af"
      },
      "execution_count": null,
      "outputs": [
        {
          "output_type": "execute_result",
          "data": {
            "text/plain": [
              "array([ 2.98866651, -1.63532611, -1.66650156, -2.02764151])"
            ]
          },
          "metadata": {},
          "execution_count": 317
        }
      ]
    },
    {
      "cell_type": "code",
      "source": [
        "# índice da ação de maior \"peso\"\n",
        "np.argmax(q_table[state[0], state[1]])"
      ],
      "metadata": {
        "colab": {
          "base_uri": "https://localhost:8080/"
        },
        "id": "jvSHhW4aJ5FQ",
        "outputId": "f28de4d5-7816-4b24-b52a-2eb650b9748e"
      },
      "execution_count": null,
      "outputs": [
        {
          "output_type": "execute_result",
          "data": {
            "text/plain": [
              "0"
            ]
          },
          "metadata": {},
          "execution_count": 318
        }
      ]
    },
    {
      "cell_type": "code",
      "source": [
        "# decisão randômica: Exploration ou Exploitation?\n",
        "# Taxa de exploração: epsilon = 0.1 -->\n",
        "# 10% de chance para Exploration e 90% de chance para Exploitation\n",
        "if random.uniform(0, 1) < epsilon:\n",
        "    action = random.choice(actions)  # Exploration\n",
        "    print('Exploration')\n",
        "else:\n",
        "    action = actions[np.argmax(q_table[state[0], state[1]])]  # Exploitation\n",
        "    print('Exploitation')"
      ],
      "metadata": {
        "colab": {
          "base_uri": "https://localhost:8080/"
        },
        "id": "-8lwwC6-MZSC",
        "outputId": "df37513a-78eb-4eb1-926f-1a3598a70562"
      },
      "execution_count": null,
      "outputs": [
        {
          "output_type": "stream",
          "name": "stdout",
          "text": [
            "Exploitation\n"
          ]
        }
      ]
    },
    {
      "cell_type": "code",
      "source": [
        "# nova ação a ser tomada\n",
        "action"
      ],
      "metadata": {
        "colab": {
          "base_uri": "https://localhost:8080/",
          "height": 36
        },
        "id": "892Aan5wI-z5",
        "outputId": "6a2ea9d8-4f7d-4734-e4a7-12d7ea1334ea"
      },
      "execution_count": null,
      "outputs": [
        {
          "output_type": "execute_result",
          "data": {
            "text/plain": [
              "'up'"
            ],
            "application/vnd.google.colaboratory.intrinsic+json": {
              "type": "string"
            }
          },
          "metadata": {},
          "execution_count": 320
        }
      ]
    },
    {
      "cell_type": "code",
      "source": [
        "# novo estado após ser tomada a nova ação\n",
        "next_state = get_next_state(state, action)\n",
        "next_state"
      ],
      "metadata": {
        "colab": {
          "base_uri": "https://localhost:8080/"
        },
        "id": "gtOAoL69Ks15",
        "outputId": "e1625dca-2859-4cb3-cd8e-109f643d9361"
      },
      "execution_count": null,
      "outputs": [
        {
          "output_type": "execute_result",
          "data": {
            "text/plain": [
              "(1, 0)"
            ]
          },
          "metadata": {},
          "execution_count": 321
        }
      ]
    },
    {
      "cell_type": "code",
      "source": [
        "# Vefica se a ação foi válida!\n",
        "if(next_state != state):\n",
        "  print('Valid new state')\n",
        "else:\n",
        "  print('New state invalid. Keep state!')"
      ],
      "metadata": {
        "colab": {
          "base_uri": "https://localhost:8080/"
        },
        "id": "zSGuo1UzvyGG",
        "outputId": "68ed6628-4989-4b1a-fe35-824f3adc47df"
      },
      "execution_count": null,
      "outputs": [
        {
          "output_type": "stream",
          "name": "stdout",
          "text": [
            "Valid new state\n"
          ]
        }
      ]
    },
    {
      "cell_type": "code",
      "source": [
        "# grid de recompensas\n",
        "rewards"
      ],
      "metadata": {
        "colab": {
          "base_uri": "https://localhost:8080/"
        },
        "id": "fiswTbfSLYJK",
        "outputId": "a9ba2e5c-67fc-441b-ca4d-bd1aee516fd5"
      },
      "execution_count": null,
      "outputs": [
        {
          "output_type": "execute_result",
          "data": {
            "text/plain": [
              "array([[  -1,   -1,   -1,   10],\n",
              "       [  -1, -100,   -1,   -1],\n",
              "       [  -1,   -1, -100,   -1]])"
            ]
          },
          "metadata": {},
          "execution_count": 323
        }
      ]
    },
    {
      "cell_type": "code",
      "source": [
        "# recompensa ganha ao atingir o novo estado\n",
        "reward = rewards[next_state[0], next_state[1]]\n",
        "reward"
      ],
      "metadata": {
        "colab": {
          "base_uri": "https://localhost:8080/"
        },
        "id": "wOEiDbDKLj1r",
        "outputId": "2ce85e9c-4c66-43f1-ca68-09a156e707c8"
      },
      "execution_count": null,
      "outputs": [
        {
          "output_type": "execute_result",
          "data": {
            "text/plain": [
              "-1"
            ]
          },
          "metadata": {},
          "execution_count": 324
        }
      ]
    },
    {
      "cell_type": "code",
      "source": [
        "# índice da ação --> ações: [\"up\", \"down\", \"left\", \"right\"]\n",
        "action_index = actions.index(action)\n",
        "action_index"
      ],
      "metadata": {
        "colab": {
          "base_uri": "https://localhost:8080/"
        },
        "id": "pyRhwxV1LqqD",
        "outputId": "f9607db6-8e1f-424e-c055-76242b8cc679"
      },
      "execution_count": null,
      "outputs": [
        {
          "output_type": "execute_result",
          "data": {
            "text/plain": [
              "0"
            ]
          },
          "metadata": {},
          "execution_count": 325
        }
      ]
    },
    {
      "cell_type": "code",
      "source": [
        "# Linha da Q-table correspondente ao novo estado\n",
        "# Os valores correspondem aos \"pesos\" das respectivas ações: [\"up\", \"down\", \"left\", \"right\"]\n",
        "q_table[next_state[0], next_state[1]]"
      ],
      "metadata": {
        "colab": {
          "base_uri": "https://localhost:8080/"
        },
        "id": "hUBFbXCw7YAC",
        "outputId": "6c4cb60c-7ea5-4e52-f01b-b64d28ed17ad"
      },
      "execution_count": null,
      "outputs": [
        {
          "output_type": "execute_result",
          "data": {
            "text/plain": [
              "array([ 4.52912978, -0.67054826, -0.45235423, -0.87249359])"
            ]
          },
          "metadata": {},
          "execution_count": 326
        }
      ]
    },
    {
      "cell_type": "code",
      "source": [
        "# Seleciono a ação de peso máximo!\n",
        "best_next_action = np.max(q_table[next_state[0], next_state[1]])\n",
        "best_next_action"
      ],
      "metadata": {
        "colab": {
          "base_uri": "https://localhost:8080/"
        },
        "id": "gWUgwCpVM9ma",
        "outputId": "2d057bc3-79ed-4eb9-eae4-754905d92353"
      },
      "execution_count": null,
      "outputs": [
        {
          "output_type": "execute_result",
          "data": {
            "text/plain": [
              "4.529129784811477"
            ]
          },
          "metadata": {},
          "execution_count": 327
        }
      ]
    },
    {
      "cell_type": "code",
      "source": [
        "# índice da ação de maior \"peso\"\n",
        "i_new = np.argmax(q_table[next_state[0], next_state[1]])\n",
        "i_new"
      ],
      "metadata": {
        "colab": {
          "base_uri": "https://localhost:8080/"
        },
        "id": "0-U79i2ZPNM8",
        "outputId": "4bdf83b1-e6d4-49c3-caf9-5801d0b3945d"
      },
      "execution_count": null,
      "outputs": [
        {
          "output_type": "execute_result",
          "data": {
            "text/plain": [
              "0"
            ]
          },
          "metadata": {},
          "execution_count": 337
        }
      ]
    },
    {
      "cell_type": "code",
      "source": [
        "# nova ação selecionada\n",
        "actions[i_new]"
      ],
      "metadata": {
        "colab": {
          "base_uri": "https://localhost:8080/",
          "height": 36
        },
        "id": "HkqXNOrPNb7j",
        "outputId": "5b4a1ee5-375e-466b-bb0e-6ba076112b22"
      },
      "execution_count": null,
      "outputs": [
        {
          "output_type": "execute_result",
          "data": {
            "text/plain": [
              "'up'"
            ],
            "application/vnd.google.colaboratory.intrinsic+json": {
              "type": "string"
            }
          },
          "metadata": {},
          "execution_count": 338
        }
      ]
    },
    {
      "cell_type": "code",
      "source": [
        "# valor da Q-table da nova ação selecionada\n",
        "q_table[state[0], state[1], action_index]"
      ],
      "metadata": {
        "colab": {
          "base_uri": "https://localhost:8080/"
        },
        "id": "eGaUuYG8UZJt",
        "outputId": "b2e2129e-79cf-4009-f0b2-7bb26cdf120c"
      },
      "execution_count": null,
      "outputs": [
        {
          "output_type": "execute_result",
          "data": {
            "text/plain": [
              "4.529129784811477"
            ]
          },
          "metadata": {},
          "execution_count": 339
        }
      ]
    },
    {
      "cell_type": "code",
      "source": [
        "# Atualizar a Q-Table utilizando a fórmula de atualização do Q-Learning\n",
        "# Novo Valor Q = Valor Q antigo + taxa de aprendizado *\n",
        "#   (recompensa + fator de desconto * valor Q máximo do próximo estado - Valor Q antigo)\n",
        "q_table[state[0], state[1], action_index] += alpha * (\n",
        "    reward + gamma * best_next_action - q_table[state[0], state[1], action_index])"
      ],
      "metadata": {
        "id": "h9tAU-0uNyl-"
      },
      "execution_count": null,
      "outputs": []
    },
    {
      "cell_type": "code",
      "source": [
        "# Novo Valor da Q-Table\n",
        "q_table[state[0], state[1], action_index]"
      ],
      "metadata": {
        "colab": {
          "base_uri": "https://localhost:8080/"
        },
        "id": "-JcmG5dPWJCF",
        "outputId": "23d0b462-46ff-4620-9c47-b7fc2f48603b"
      },
      "execution_count": null,
      "outputs": [
        {
          "output_type": "execute_result",
          "data": {
            "text/plain": [
              "4.383838486963363"
            ]
          },
          "metadata": {},
          "execution_count": 341
        }
      ]
    },
    {
      "cell_type": "code",
      "source": [
        "q_table"
      ],
      "metadata": {
        "colab": {
          "base_uri": "https://localhost:8080/"
        },
        "id": "Ynoqt9lrJIrI",
        "outputId": "0c30e139-8803-4158-af21-7c9f6637910a"
      },
      "execution_count": null,
      "outputs": [
        {
          "output_type": "execute_result",
          "data": {
            "text/plain": [
              "array([[[ 0.14723957, -0.65717909,  0.94813972,  6.18631887],\n",
              "        [ 1.49065112, -0.199     ,  0.67012854,  7.99717604],\n",
              "        [ 1.48189588, -0.19      ,  1.38753576,  9.99970487],\n",
              "        [ 0.        ,  0.        ,  0.        ,  0.        ]],\n",
              "\n",
              "       [[ 4.38383849, -0.67054826, -0.45235423, -0.87249359],\n",
              "        [ 0.        ,  0.        ,  0.        ,  0.        ],\n",
              "        [-0.1       , -0.1       , -0.1       , -0.1       ],\n",
              "        [ 1.        ,  0.        ,  0.        ,  0.        ]],\n",
              "\n",
              "       [[ 2.99742154, -1.63532611, -1.66650156, -2.02764151],\n",
              "        [-1.9836941 , -1.9836941 , -1.36861136, -1.9836941 ],\n",
              "        [ 0.        ,  0.        ,  0.        ,  0.        ],\n",
              "        [ 0.        ,  0.        ,  0.        ,  0.        ]]])"
            ]
          },
          "metadata": {},
          "execution_count": 342
        }
      ]
    },
    {
      "cell_type": "code",
      "source": [
        "# Exibir a Q-Table como DataFrame\n",
        "q_table_df = display_q_table(q_table)\n",
        "print(q_table_df)"
      ],
      "metadata": {
        "colab": {
          "base_uri": "https://localhost:8080/"
        },
        "id": "y00nVJ2RJoUx",
        "outputId": "45bb7cef-578f-439a-9e80-9a3e96ca4e8c"
      },
      "execution_count": null,
      "outputs": [
        {
          "output_type": "stream",
          "name": "stdout",
          "text": [
            "          Up  Down  Left Right\n",
            "(0, 0)  0.15 -0.66  0.95  6.19\n",
            "(0, 1)  1.49  -0.2  0.67   8.0\n",
            "(0, 2)  1.48 -0.19  1.39  10.0\n",
            "(0, 3)   0.0   0.0   0.0   0.0\n",
            "(1, 0)  4.38 -0.67 -0.45 -0.87\n",
            "(1, 1)  OBST  OBST  OBST  OBST\n",
            "(1, 2)  -0.1  -0.1  -0.1  -0.1\n",
            "(1, 3)   1.0   0.0   0.0   0.0\n",
            "(2, 0)   3.0 -1.64 -1.67 -2.03\n",
            "(2, 1) -1.98 -1.98 -1.37 -1.98\n",
            "(2, 2)  OBST  OBST  OBST  OBST\n",
            "(2, 3)   0.0   0.0   0.0   0.0\n"
          ]
        }
      ]
    },
    {
      "cell_type": "code",
      "source": [
        "# O novo estado passa a ser o estado atual\n",
        "state = next_state\n",
        "state"
      ],
      "metadata": {
        "colab": {
          "base_uri": "https://localhost:8080/"
        },
        "id": "Lp5V927bzuiY",
        "outputId": "320a64d4-a82c-49e0-d1a5-a4a026e6d11d"
      },
      "execution_count": null,
      "outputs": [
        {
          "output_type": "execute_result",
          "data": {
            "text/plain": [
              "(1, 0)"
            ]
          },
          "metadata": {},
          "execution_count": 334
        }
      ]
    },
    {
      "cell_type": "code",
      "source": [
        "# incremento o step time\n",
        "steps+=1\n",
        "steps"
      ],
      "metadata": {
        "colab": {
          "base_uri": "https://localhost:8080/"
        },
        "id": "nF-L4sGGz2WR",
        "outputId": "680695e9-8d18-4db3-ebcd-8d0c941ed9d4"
      },
      "execution_count": null,
      "outputs": [
        {
          "output_type": "execute_result",
          "data": {
            "text/plain": [
              "1"
            ]
          },
          "metadata": {},
          "execution_count": 335
        }
      ]
    },
    {
      "cell_type": "markdown",
      "source": [
        "**Retornar ao loop dos time steps**\n",
        "\n",
        "---"
      ],
      "metadata": {
        "id": "97kBKNOSjAiF"
      }
    },
    {
      "cell_type": "markdown",
      "source": [
        "#Métricas"
      ],
      "metadata": {
        "id": "HtnZYhzbjUDd"
      }
    },
    {
      "cell_type": "code",
      "source": [
        "# Gráfico Total rewards per episode\n",
        "plt.plot(rewards_per_episode)\n",
        "plt.xlabel('Episódios')\n",
        "plt.ylabel('Rewards')\n",
        "plt.title('Total rewards per episode')\n",
        "plt.show()"
      ],
      "metadata": {
        "colab": {
          "base_uri": "https://localhost:8080/",
          "height": 472
        },
        "id": "HPzgvePCHtxz",
        "outputId": "efd5e1a9-d04c-46c3-f277-41d26301f4d0"
      },
      "execution_count": 17,
      "outputs": [
        {
          "output_type": "display_data",
          "data": {
            "text/plain": [
              "<Figure size 640x480 with 1 Axes>"
            ],
            "image/png": "[encoded data removed]"
          },
          "metadata": {}
        }
      ]
    },
    {
      "cell_type": "code",
      "source": [
        "# Gráfico Total steps per episode\n",
        "plt.plot(steps_per_episode)\n",
        "plt.xlabel('Episódios')\n",
        "plt.ylabel('Steps time')\n",
        "plt.title('Total steps time per episode')\n",
        "plt.show()"
      ],
      "metadata": {
        "colab": {
          "base_uri": "https://localhost:8080/",
          "height": 472
        },
        "outputId": "f99ca633-8544-483f-c476-e9b14e44d2a8",
        "id": "9BsS_1aEgB8f"
      },
      "execution_count": 16,
      "outputs": [
        {
          "output_type": "display_data",
          "data": {
            "text/plain": [
              "<Figure size 640x480 with 1 Axes>"
            ],
            "image/png": "[encoded data removed]"
          },
          "metadata": {}
        }
      ]
    },
    {
      "cell_type": "markdown",
      "source": [
        "###Média dos valores da Q-Table\n",
        "Média geral dos valores da Q-Table ao longo de episódios de treinamento. Essa abordagem ajuda a monitorar como os valores Q evoluem durante o aprendizado."
      ],
      "metadata": {
        "id": "zyq6tElYneGl"
      }
    },
    {
      "cell_type": "code",
      "source": [
        "# Plotando a evolução da média geral da Q-Table\n",
        "plt.figure(figsize=(8, 6))\n",
        "plt.plot(q_table_history, label=\"Média Geral da Q-Table\", color=\"blue\")\n",
        "plt.title(\"Evolução da Média Geral da Q-Table\")\n",
        "plt.xlabel(\"Episódios\")\n",
        "plt.ylabel(\"Média dos Valores Q\")\n",
        "plt.legend()\n",
        "plt.grid(True)\n",
        "plt.show()"
      ],
      "metadata": {
        "colab": {
          "base_uri": "https://localhost:8080/",
          "height": 565
        },
        "id": "XziJeAvNm4Ed",
        "outputId": "0d30fb86-2099-4841-f122-62be59e446f7"
      },
      "execution_count": 14,
      "outputs": [
        {
          "output_type": "display_data",
          "data": {
            "text/plain": [
              "<Figure size 800x600 with 1 Axes>"
            ],
            "image/png": "[encoded data removed]"
          },
          "metadata": {}
        }
      ]
    },
    {
      "cell_type": "markdown",
      "source": [
        "1. **Cálculo da Média Geral:**\n",
        "   - A média dos valores na Q-Table é calculada com `np.mean(q_table)`.\n",
        "   - Isso representa a estimativa média da recompensa futura para todas as ações em todos os estados.\n",
        "2. **Histórico da Média:**\n",
        "   - Armazenamos a média geral após cada atualização da Q-Table.\n",
        "   - Isso permite observar tendências de aprendizado (ex.: crescimento ou estabilização).\n",
        "3. **Gráfico:**\n",
        "   - O gráfico mostra como os valores da Q-Table evoluem ao longo do treinamento, indicando progresso.\n",
        "\n",
        "#### Resultados Esperados\n",
        "- **Curva Crescente:** À medida que o agente aprende a maximizar recompensas, a média da Q-Table deve crescer.\n",
        "- **Estabilização:** Quando a política converge, a média da Q-Table tende a estabilizar."
      ],
      "metadata": {
        "id": "S4N7bkU_nth9"
      }
    },
    {
      "cell_type": "code",
      "source": [
        "q_table"
      ],
      "metadata": {
        "colab": {
          "base_uri": "https://localhost:8080/"
        },
        "id": "gQovmhwqEpFV",
        "outputId": "84de2ab3-4638-4f81-8d14-86f9394d8602"
      },
      "execution_count": 15,
      "outputs": [
        {
          "output_type": "execute_result",
          "data": {
            "text/plain": [
              "array([[[ 4.16602157,  2.98054864,  4.38283606,  6.2       ],\n",
              "        [ 5.81836494,  5.46935619,  4.27422158,  8.        ],\n",
              "        [ 7.6422557 ,  4.39733865,  5.86842937, 10.        ],\n",
              "        [ 0.        ,  0.        ,  0.        ,  0.        ]],\n",
              "\n",
              "       [[ 4.58      ,  1.44833263,  2.53294391,  3.04213156],\n",
              "        [ 0.        ,  0.        ,  0.        ,  0.        ],\n",
              "        [ 7.41849411,  0.32410585, -0.1       , -0.1       ],\n",
              "        [ 1.9       ,  0.        ,  0.        ,  0.        ]],\n",
              "\n",
              "       [[ 3.122     ,  1.16141019,  1.45867822, -0.94062553],\n",
              "        [-2.08381456, -2.05076729,  1.14695105, -1.86823933],\n",
              "        [ 0.        ,  0.        ,  0.        ,  0.        ],\n",
              "        [ 0.        ,  0.        ,  0.        ,  0.        ]]])"
            ]
          },
          "metadata": {},
          "execution_count": 15
        }
      ]
    },
    {
      "cell_type": "code",
      "source": [
        "# Exibir a Q-Table de forma organizada\n",
        "def print_q_table(q_table):\n",
        "    print(\"\\nQ-Table:\")\n",
        "    for row in range(q_table.shape[0]):  # Para cada linha\n",
        "        for col in range(q_table.shape[1]):  # Para cada coluna\n",
        "            state = (row, col)\n",
        "            if grid[row, col] == -1:  # Obstáculo\n",
        "                print(f\"({row},{col}): OBST\", end=\" | \")\n",
        "            else:\n",
        "                q_values = q_table[state]\n",
        "                print(f\"({row},{col}): {q_values.round(2)}\", end=\" | \")\n",
        "        print()  # Nova linha para cada linha do grid\n",
        "\n",
        "# Exibir a Q-Table\n",
        "print_q_table(q_table)\n"
      ],
      "metadata": {
        "colab": {
          "base_uri": "https://localhost:8080/"
        },
        "id": "BeGWZKPPJeU2",
        "outputId": "3b58b16a-68a0-4754-bc6b-a997aa67b1d6"
      },
      "execution_count": null,
      "outputs": [
        {
          "output_type": "stream",
          "name": "stdout",
          "text": [
            "\n",
            "Q-Table:\n",
            "(0,0): [4.04 2.87 4.11 6.2 ] | (0,1): [4.74 6.04 3.88 8.  ] | (0,2): [ 7.53  4.43  5.87 10.  ] | (0,3): [0. 0. 0. 0.] | \n",
            "(1,0): [4.58 1.66 2.85 2.87] | (1,1): OBST | (1,2): [7.48 0.   1.29 0.  ] | (1,3): [0. 0. 0. 0.] | \n",
            "(2,0): [3.12 1.62 1.53 0.06] | (2,1): [-1.73 -1.65  1.66 -1.74] | (2,2): OBST | (2,3): [0. 0. 0. 0.] | \n"
          ]
        }
      ]
    },
    {
      "cell_type": "code",
      "source": [
        "# Exibir a Q-Table como DataFrame\n",
        "q_table_df = display_q_table(q_table)\n",
        "print(q_table_df)"
      ],
      "metadata": {
        "colab": {
          "base_uri": "https://localhost:8080/"
        },
        "id": "auyYz4S8J419",
        "outputId": "754fd411-f1f2-45f1-e848-783b6ad0badc"
      },
      "execution_count": null,
      "outputs": [
        {
          "output_type": "stream",
          "name": "stdout",
          "text": [
            "          Up  Down  Left Right\n",
            "(0, 0)   0.0   0.0   0.0   0.0\n",
            "(0, 1)   0.0   0.0   0.0   0.0\n",
            "(0, 2)   0.0   0.0   0.0   0.0\n",
            "(0, 3)   0.0   0.0   0.0   0.0\n",
            "(1, 0)   0.0   0.0   0.0   0.0\n",
            "(1, 1)  OBST  OBST  OBST  OBST\n",
            "(1, 2)   0.0   0.0   0.0   0.0\n",
            "(1, 3)   0.0   0.0   0.0   0.0\n",
            "(2, 0)   0.0   0.0   0.0   0.0\n",
            "(2, 1)   0.0   0.0   0.0   0.0\n",
            "(2, 2)  OBST  OBST  OBST  OBST\n",
            "(2, 3)   0.0   0.0   0.0   0.0\n"
          ]
        }
      ]
    },
    {
      "cell_type": "code",
      "source": [
        "import matplotlib.pyplot as plt\n",
        "\n",
        "# Exibir os valores Q de forma gráfica\n",
        "def plot_q_table(q_table):\n",
        "    fig, ax = plt.subplots(figsize=(8, 6))\n",
        "    for row in range(rows):\n",
        "        for col in range(cols):\n",
        "            state = (row, col)\n",
        "            if grid[row, col] == -1:\n",
        "                ax.text(col, rows - row - 1, \"OBST\", ha='center', va='center', color='red', fontsize=14)\n",
        "            else:\n",
        "                values = q_table[state].round(2)\n",
        "                ax.text(col, rows - row - 1, f\"U:{values[0]}\\nD:{values[1]}\\nL:{values[2]}\\nR:{values[3]}\",\n",
        "                        ha='center', va='center', fontsize=11, color='blue')\n",
        "    ax.set_xticks(range(cols))\n",
        "    ax.set_yticks(range(rows))\n",
        "    ax.set_xticklabels(range(cols))\n",
        "    ax.set_yticklabels(range(rows - 1, -1, -1))\n",
        "    ax.set_xlim(-0.5, cols - 0.5)\n",
        "    ax.set_ylim(-0.5, rows - 0.5)\n",
        "    ax.grid()\n",
        "    ax.set_title(\"Q-Table Visualization\")\n",
        "    plt.show()\n",
        "\n",
        "# Plotar a Q-Table\n",
        "plot_q_table(q_table)\n"
      ],
      "metadata": {
        "colab": {
          "base_uri": "https://localhost:8080/",
          "height": 545
        },
        "id": "YmzRp2iVKRMr",
        "outputId": "acfa2df1-9bd8-42c3-8aa3-b4de53b66670"
      },
      "execution_count": null,
      "outputs": [
        {
          "output_type": "display_data",
          "data": {
            "text/plain": [
              "<Figure size 800x600 with 1 Axes>"
            ],
            "image/png": "[encoded data removed]"
          },
          "metadata": {}
        }
      ]
    },
    {
      "cell_type": "markdown",
      "source": [
        "## Heatmap de Valores Médios da Q-Table\n",
        "Podemos calcular os valores médios das ações em cada estado e mapeá-los para o ambiente.\n",
        "\n",
        "###Explicação\n",
        "- **Cálculo da Média:** `np.mean(q_table, axis=1)` calcula a média dos valores Q para todas as ações em cada estado.\n",
        "- **Reshape para Grid:** O vetor de médias $\\text{state_means}$ é transformado no formato $(linhas \\times colunas)$ correspondente ao ambiente.\n",
        "- **Heatmap:** O `seaborn.heatmap` gera o gráfico com as anotações dos valores em cada célula.\n",
        "\n",
        "### Resultados Esperados\n",
        "- Um **heatmap** onde cada célula representa o valor médio das ações em um estado do ambiente.\n",
        "- Os valores altos aparecem em tons mais escuros (indicando estados melhores).\n",
        "- Os valores baixos aparecem em tons mais claros."
      ],
      "metadata": {
        "id": "w4vqjEeMkQed"
      }
    },
    {
      "cell_type": "code",
      "source": [
        "import seaborn as sns  # Para heatmaps sofisticados\n",
        "\n",
        "# Calcular o valor médio de cada estado\n",
        "state_means = np.mean(q_table, axis=1)  # Média ao longo das ações\n",
        "\n",
        "# Remodelar a matriz para o formato do grid\n",
        "state_mean_matrix = state_means.reshape(rows, cols)\n",
        "\n",
        "# Plotando o heatmap\n",
        "plt.figure(figsize=(8, 6))\n",
        "sns.heatmap(state_mean_matrix, annot=True, cmap=\"YlGnBu\", fmt=\".2f\", cbar=True)\n",
        "plt.title(\"Mapa de Calor dos Valores Médios da Q-Table\")\n",
        "plt.xlabel(\"Colunas\")\n",
        "plt.ylabel(\"Linhas\")\n",
        "plt.show()"
      ],
      "metadata": {
        "colab": {
          "base_uri": "https://localhost:8080/",
          "height": 565
        },
        "id": "sGFhAARJjH20",
        "outputId": "cd1bff1d-9861-4cdc-add3-1cfd6f79c8e8"
      },
      "execution_count": null,
      "outputs": [
        {
          "output_type": "display_data",
          "data": {
            "text/plain": [
              "<Figure size 800x600 with 2 Axes>"
            ],
            "image/png": "[encoded data removed]"
          },
          "metadata": {}
        }
      ]
    },
    {
      "cell_type": "code",
      "source": [
        "def plot_grid(grid, path, title=\"Caminho Percorrido pelo Robô\"):\n",
        "    rows, cols = grid.shape\n",
        "    fig, ax = plt.subplots(figsize=(8, 6))\n",
        "\n",
        "    # Configurar o grid\n",
        "    for x in range(rows):\n",
        "        for y in range(cols):\n",
        "            # Configurar cores\n",
        "            if grid[x, y] == -1:\n",
        "                facecolor = \"black\"  # Obstáculo\n",
        "                edgecolor = \"gray\"\n",
        "            elif grid[x, y] == 1:\n",
        "                facecolor = \"green\"  # Objetivo\n",
        "                edgecolor = \"gray\"\n",
        "            else:\n",
        "                facecolor = \"white\"  # Caminho livre\n",
        "                edgecolor = \"gray\"\n",
        "            ax.add_patch(plt.Rectangle((y, x), 1, 1, facecolor=facecolor, edgecolor=edgecolor))\n",
        "\n",
        "    # Adicionar o caminho do robô\n",
        "    for i, (x, y) in enumerate(path):\n",
        "        ax.text(y + 0.5, x + 0.5, str(i), ha=\"center\", va=\"center\", color=\"blue\")\n",
        "\n",
        "    # Configurações de layout\n",
        "    ax.set_xlim(0, cols)\n",
        "    ax.set_ylim(0, rows)\n",
        "    ax.set_xticks(range(cols))\n",
        "    ax.set_yticks(range(rows))\n",
        "    ax.set_xticklabels([])\n",
        "    ax.set_yticklabels([])\n",
        "    ax.set_title(title)\n",
        "    ax.grid(True)\n",
        "    plt.gca().invert_yaxis()  # Inverter o eixo Y\n",
        "    plt.show()"
      ],
      "metadata": {
        "id": "B2Q2vYOn3kNo"
      },
      "execution_count": null,
      "outputs": []
    },
    {
      "cell_type": "code",
      "source": [
        "# Simulação do caminho aprendido pelo robô\n",
        "def simulate_path(q_table, start, goal):\n",
        "    state = start\n",
        "    path = [state]\n",
        "    i=0\n",
        "    while state != goal:\n",
        "        # Selecionar a melhor ação com base na Q-Table\n",
        "        action_index = np.argmax(q_table[state[0], state[1]])\n",
        "        action = actions[action_index]\n",
        "        state = get_next_state(state, action)\n",
        "        path.append(state)\n",
        "        i+=1\n",
        "        if i > max_step_time:\n",
        "          break\n",
        "    return path\n",
        "\n",
        "# Definir estado inicial e objetivo\n",
        "start_state = i_state\n",
        "goal_state = g_state\n",
        "\n",
        "# Simular o caminho percorrido\n",
        "path = simulate_path(q_table, start_state, goal_state)\n",
        "\n",
        "# Exibir o grid e o caminho\n",
        "plot_grid(grid, path, title=\"Caminho Percorrido pelo Robô\")"
      ],
      "metadata": {
        "colab": {
          "base_uri": "https://localhost:8080/",
          "height": 526
        },
        "id": "S_TPheBO1wFn",
        "outputId": "c05176b1-2e50-4f72-cfda-d5d6298e8e93"
      },
      "execution_count": null,
      "outputs": [
        {
          "output_type": "display_data",
          "data": {
            "text/plain": [
              "<Figure size 800x600 with 1 Axes>"
            ],
            "image/png": "[encoded data removed]"
          },
          "metadata": {}
        }
      ]
    },
    {
      "cell_type": "markdown",
      "source": [
        "### **Etapa 5: Avaliação**\n",
        "1. **Executar a Política Aprendida**:\n",
        "   - Use a Q-Table para escolher a ação $ \\text{argmax}_{a} Q(s, a) $ em cada estado.\n",
        "\n",
        "2. **Visualizar o Caminho**:\n",
        "   - Imprima o caminho seguido pelo robô no grid.\n",
        "   - Exemplo de visualização:\n",
        "     ```\n",
        "     [ S, ., ., G ]\n",
        "     [ ., X, ., . ]\n",
        "     [ ., ., X, . ]\n",
        "     ```\n",
        "\n",
        "3. **Métricas de Avaliação**:\n",
        "   - Custo total (soma das recompensas).\n",
        "   - Número de passos para alcançar o objetivo.\n",
        "\n",
        "---\n",
        "\n",
        "### **Etapa 6: Melhorias**\n",
        "1. **Explorar Algoritmos Avançados**:\n",
        "   - Deep Q-Learning para ambientes maiores.\n",
        "   - Métodos baseados em políticas, como PPO ou DDPG.\n",
        "\n",
        "2. **Adicionar Variabilidade**:\n",
        "   - Obstáculos móveis.\n",
        "   - Ambientes não estacionários.\n",
        "\n",
        "3. **Simulação Visual**:\n",
        "   - Use bibliotecas como **Pygame** ou **Matplotlib** para animar a navegação."
      ],
      "metadata": {
        "id": "zBPW78IdMp6_"
      }
    },
    {
      "cell_type": "markdown",
      "source": [
        "##Referências\n",
        "### Livros\n",
        "1. **Reinforcement Learning: An Introduction**  \n",
        "   - Autores: Richard S. Sutton e Andrew G. Barto  \n",
        "   - Descrição: Este livro é uma referência fundamental em aprendizado por reforço, cobrindo conceitos como Q-Learning e sua aplicação em robótica.  \n",
        "   - [Link oficial do livro](http://incompleteideas.net/book/the-book.html)\n",
        "\n",
        "2. **Probabilistic Robotics**  \n",
        "   - Autores: Sebastian Thrun, Wolfram Burgard, Dieter Fox  \n",
        "   - Descrição: Uma referência essencial para robótica probabilística, com aplicações práticas para navegação em ambientes dinâmicos. Embora não trate diretamente de Q-Learning, é complementar para técnicas de navegação.  \n",
        "   - [Link na Amazon](https://www.amazon.com/Probabilistic-Robotics-Intelligent-Autonomous-Agents/dp/0262201623)\n",
        "\n",
        "3. **Robotics: Modelling, Planning and Control**  \n",
        "   - Autores: Bruno Siciliano, Lorenzo Sciavicco, Luigi Villani, Giuseppe Oriolo  \n",
        "   - Descrição: Livro abrangente que aborda planejamento e controle de robôs, incluindo aspectos relacionados a navegação.  \n",
        "\n",
        "---\n",
        "\n",
        "### Artigos Científicos\n",
        "1. **Reinforcement Learning in Robotics: A Survey**  \n",
        "   - Autores: Kober, Bagnell, Peters (2013)  \n",
        "   - Descrição: Este artigo oferece uma visão geral do uso de aprendizado por reforço em robótica.  \n",
        "   - [Link para o artigo](https://arxiv.org/abs/1306.5664)\n",
        "\n",
        "2. **Learning Mobile Robot Navigation Using Neural Networks and Reinforcement Learning**  \n",
        "   - Autores: Q. Zhang, L. Meng  \n",
        "   - Descrição: Aplica Q-Learning em conjunto com redes neurais para navegação autônoma de robôs.\n",
        "\n",
        "3. **Deep Reinforcement Learning for Mobile Robot Navigation**  \n",
        "   - Autores: Tai, Paolo, Liu  \n",
        "   - Descrição: Este artigo combina Q-Learning profundo com estratégias para navegação em robótica móvel.  \n",
        "   - [Link para o artigo](https://arxiv.org/abs/1611.07479)\n",
        "\n",
        "4. **Q-Learning-based Navigation for Mobile Robots**  \n",
        "   - Autor: J. G. Zuluaga  \n",
        "   - Descrição: Explora Q-Learning para navegação de robôs móveis em ambientes estáticos e dinâmicos.  \n",
        "\n",
        "---\n",
        "\n",
        "### Repositórios e Implementações\n",
        "1. **OpenAI Gym for Robotics**  \n",
        "   - Descrição: Ambientes simulados que incluem robótica e navegação para explorar aprendizado por reforço.  \n",
        "   - [Repositório no GitHub](https://github.com/openai/gym)\n",
        "\n",
        "2. **Navigation2 with Reinforcement Learning**  \n",
        "   - Descrição: Repositório de exemplo que implementa aprendizado por reforço para navegação em ROS2.  \n",
        "   - [Repositório no GitHub](https://github.com/ros-planning/navigation2)\n",
        "\n",
        "---\n",
        "\n",
        "### Cursos e Tutoriais\n",
        "1. **Udacity Robotics Software Engineer Nanodegree**  \n",
        "   - Inclui tópicos de aprendizado por reforço para navegação em ambientes complexos.  \n",
        "   - [Página do curso](https://www.udacity.com/course/robotics-software-engineer--nd209)\n",
        "\n",
        "2. **Coursera - Modern Robotics: Mechanics, Planning, and Control**  \n",
        "   - Oferecido pela Northwestern University, aborda navegação e controle de robôs.  \n",
        "   - [Link para o curso](https://www.coursera.org/specializations/modern-robotics)\n",
        "\n",
        "---\n",
        "\n",
        "### Blogs e Artigos Online\n",
        "1. **Reinforcement Learning for Robot Navigation**  \n",
        "   - Blog: Towards Data Science  \n",
        "   - Explica como implementar Q-Learning para navegação de robôs.  \n",
        "   - [Leia o artigo](https://towardsdatascience.com)\n",
        "\n",
        "2. **Robótica e Aprendizado por Reforço: Aplicações com Python**  \n",
        "   - Autor: Luciano Vargas  \n",
        "   - Explora casos práticos de aprendizado por reforço em robótica.\n",
        "\n"
      ],
      "metadata": {
        "id": "A0xylNkjFgLo"
      }
    }
  ]
}